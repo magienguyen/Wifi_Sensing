{
 "cells": [
  {
   "cell_type": "code",
   "execution_count": 1,
   "metadata": {},
   "outputs": [],
   "source": [
    "import pandas as pd\n",
    "import numpy as np\n",
    "import torch\n",
    "import random\n",
    "import matplotlib.pyplot as plt\n",
    "import itertools\n",
    "import glob\n",
    "from scipy import stats"
   ]
  },
  {
   "cell_type": "code",
   "execution_count": 22,
   "metadata": {},
   "outputs": [
    {
     "name": "stdout",
     "output_type": "stream",
     "text": [
      "0 P0-W0\n",
      "(861, 504)\n",
      "(7749, 56)\n",
      "(7749, 56)\n",
      "(7749,)\n",
      "(7749,)\n",
      "(78, 1)\n",
      "(78, 1)\n",
      "1 P1-W1\n",
      "(743, 504)\n",
      "(6687, 56)\n",
      "(6687, 56)\n",
      "(6687,)\n",
      "(6687,)\n",
      "(67, 1)\n",
      "(67, 1)\n",
      "2 P9-W7\n",
      "(819, 504)\n",
      "(7371, 56)\n",
      "(7371, 56)\n",
      "(7371,)\n",
      "(7371,)\n",
      "(74, 1)\n",
      "(74, 1)\n",
      "3 P14-W0\n",
      "(824, 504)\n",
      "(7416, 56)\n",
      "(7416, 56)\n",
      "(7416,)\n",
      "(7416,)\n",
      "(75, 1)\n",
      "(75, 1)\n"
     ]
    }
   ],
   "source": [
    "# Train Data = Min/Max/Mean/Std/Median/Entropy\n",
    "\n",
    "path = r'/home/giang/Lab/Code/Testsets' # use your path\n",
    "classes = {0:'P0-W0', 1:'P1-W1', 2:'P9-W7', 3:'P14-W0'}\n",
    "\n",
    "df, x_np1,x_np2, y_np = {}, {}, {}, {}\n",
    "x_np_all, y_np_all = np.empty((0,9)), np.empty((0))\n",
    "window_size = 200\n",
    "step = 100\n",
    "temp = np.empty([1,window_size])\n",
    "feature1, feature2 = {}, {}\n",
    "\n",
    "for i, cls in classes.items():\n",
    "    print(i, cls)\n",
    "    all_files = glob.glob(path + \"/\" + cls + \"/*.csv\")\n",
    "    df[i] = pd.concat((pd.read_csv(f, header=None) for f in all_files))\n",
    "    x_np1[i] = np.transpose(np.array(df[i]))\n",
    "    x_np2[i] = np.transpose(np.array(df[i]))\n",
    "    print(x_np1[i].shape)\n",
    "    x_np1[i] = x_np1[i].reshape(-1,56)\n",
    "    x_np2[i] = x_np1[i].reshape(-1,56)\n",
    "    print(x_np1[i].shape)\n",
    "    print(x_np2[i].shape)\n",
    "    \n",
    "#    x_np1[i] = np.amax(np.real(np.fft.fft(x_np1[i], axis=0)),axis = 1)\n",
    "#    x_np2[i] = np.amax(np.imag(np.fft.fft(x_np2[i], axis=0)),axis = 1)\n",
    "    \n",
    "    x_np1[i] = np.amin(x_np1[i], axis=1)    #Min Feature\n",
    "    x_np2[i] = np.amax(x_np2[i], axis=1)    #Max Feature\n",
    "#    x_np[i] = np.mean(x_np[i], axis=1)    #Mean Feature\n",
    "#    x_np[i] = np.std(x_np[i], axis=1)     #Standard Deviation Feature\n",
    "#    x_np[i] = np.var(x_np[i], axis=1)     # Variance Feature\n",
    "#    x_np[i] = stats.moment(x_np[i],2, axis=1)   # 2nd order Moment Feature\n",
    "#    x_np1[i] = stats.moment(x_np1[i],3, axis=1)   # 3rd order Moment Feature\n",
    "#    x_np2[i] = stats.moment(x_np2[i],4, axis=1)   # 4th order Moment Feature\n",
    "#    x_np[i] = stats.entropy(x_np[i], axis=1)     #Entropy Feature\n",
    "    \n",
    "    print(x_np1[i].shape)\n",
    "    print(x_np2[i].shape)\n",
    "    \n",
    "    track1 = np.empty([x_np1[i].shape[0]//step+1,1])\n",
    "    track2 = np.empty([x_np2[i].shape[0]//step+1,1])\n",
    "\n",
    "    for j in range(0,x_np1[i].shape[0]-window_size+1,step):\n",
    "        for k in range(window_size):\n",
    "            temp[0,k] = x_np1[i][j+k]\n",
    "        track1[j//step,0] = np.var(temp)\n",
    "        \n",
    "    feature1[i] = np.array(track1)\n",
    "    print(feature1[i].shape)\n",
    "    \n",
    "    for j in range(0,x_np2[i].shape[0]-window_size+1,step):\n",
    "        for k in range(window_size):\n",
    "            temp[0,k] = x_np2[i][j+k]\n",
    "        track2[j//step,0] = np.var(temp)\n",
    "        \n",
    "    feature2[i] = np.array(track2)\n",
    "    print(feature2[i].shape)\n",
    "    \n",
    "#     print(x_np[i].shape)\n",
    "#     x_np[i]=x_np[i].reshape(-1,9)\n",
    "#     print(x_np[i].shape)\n",
    "           \n",
    "#     y_np[i] = np.ones(len(x_np[i])) * i # Target label\n",
    "\n",
    "#     x_np_all = np.concatenate((x_np_all, x_np[i]), axis=0)\n",
    "#     y_np_all = np.concatenate((y_np_all, y_np[i]), axis=0)\n",
    "\n",
    "# print(x_np_all.shape, y_np_all.shape)\n",
    "\n",
    "# # Visualize data sample\n",
    "# plt.plot(x_np[0])\n",
    "# plt.plot(x_np[1])\n",
    "# plt.plot(x_np[2])\n",
    "# plt.plot(x_np[3])\n",
    "# plt.xlabel(\"Sample\")\n",
    "# plt.ylabel(\"4th moment\")\n",
    "# plt.show()\n"
   ]
  },
  {
   "cell_type": "code",
   "execution_count": 23,
   "metadata": {},
   "outputs": [
    {
     "data": {
      "image/png": "[encoded data removed]",
      "text/plain": [
       "<Figure size 720x720 with 1 Axes>"
      ]
     },
     "metadata": {
      "needs_background": "light"
     },
     "output_type": "display_data"
    }
   ],
   "source": [
    "plt.figure(figsize = (10,10))\n",
    "for i,cls in classes.items():\n",
    "    plt.scatter(feature1[i],feature2[i],label = cls)\n",
    "#plt.scatter(feature1[0],feature2[0],label = 'P0-W0')\n",
    "#plt.scatter(feature1[1],feature2[1],label = 'P1-W1')\n",
    "#plt.scatter(feature1[2],feature2[2],label = 'P9-W7')\n",
    "#plt.scatter(feature1[3],feature2[3],label = 'P14-W0')\n",
    "plt.legend(loc = 'best')\n",
    "plt.show()"
   ]
  },
  {
   "cell_type": "code",
   "execution_count": null,
   "metadata": {},
   "outputs": [],
   "source": []
  }
 ],
 "metadata": {
  "kernelspec": {
   "display_name": "Python 3",
   "language": "python",
   "name": "python3"
  },
  "language_info": {
   "codemirror_mode": {
    "name": "ipython",
    "version": 3
   },
   "file_extension": ".py",
   "mimetype": "text/x-python",
   "name": "python",
   "nbconvert_exporter": "python",
   "pygments_lexer": "ipython3",
   "version": "3.7.4"
  }
 },
 "nbformat": 4,
 "nbformat_minor": 2
}
